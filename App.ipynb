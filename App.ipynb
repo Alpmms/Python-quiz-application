{
 "cells": [
  {
   "cell_type": "code",
   "execution_count": null,
   "id": "60a42df3",
   "metadata": {},
   "outputs": [
    {
     "name": "stdout",
     "output_type": "stream",
     "text": [
      "What is the output of print(2 * 3 ** 3)\n",
      "1. 18\n",
      "2. 54\n",
      "3. 6\n",
      "4. 27\n",
      "Enter your answer (1-4): 3\n",
      "Incorrect. The correct answer is '54'.\n",
      "Which of the following is not a Python data type?\n",
      "1. str\n",
      "2. int\n",
      "3. float\n",
      "4. tuple\n",
      "Enter your answer (1-4): 1\n",
      "Incorrect. The correct answer is 'tuple'.\n",
      "What is the output of print(abs(-5))\n",
      "1. 5\n",
      "2. -5\n",
      "3. 0\n",
      "4. None\n"
     ]
    }
   ],
   "source": [
    "# quiz.py\n",
    "\n",
    "questions = [\n",
    "    {\n",
    "        \"question\": \"What is the output of print(2 * 3 ** 3)\",\n",
    "        \"answers\": [\"18\", \"54\", \"6\", \"27\"],\n",
    "        \"correct_answer\": \"54\"\n",
    "    },\n",
    "    {\n",
    "        \"question\": \"Which of the following is not a Python data type?\",\n",
    "        \"answers\": [\"str\", \"int\", \"float\", \"tuple\"],\n",
    "        \"correct_answer\": \"tuple\"\n",
    "    },\n",
    "    {\n",
    "        \"question\": \"What is the output of print(abs(-5))\",\n",
    "        \"answers\": [\"5\", \"-5\", \"0\", \"None\"],\n",
    "        \"correct_answer\": \"5\"\n",
    "    }\n",
    "]\n",
    "\n",
    "def ask_question(question):\n",
    "    print(question[\"question\"])\n",
    "    for i, answer in enumerate(question[\"answers\"], 1):\n",
    "        print(f\"{i}. {answer}\")\n",
    "    user_answer = input(\"Enter your answer (1-{}): \".format(len(question[\"answers\"])))\n",
    "    return user_answer\n",
    "\n",
    "def check_answer(question, user_answer):\n",
    "    if user_answer == \"\":\n",
    "        return False\n",
    "    if user_answer == question[\"correct_answer\"]:\n",
    "        print(\"Correct!\")\n",
    "        return True\n",
    "    else:\n",
    "        print(\"Incorrect. The correct answer is '{}'.\".format(question[\"correct_answer\"]))\n",
    "        return False\n",
    "\n",
    "def run_quiz():\n",
    "    score = 0\n",
    "    for question in questions:\n",
    "        user_answer = ask_question(question)\n",
    "        if check_answer(question, user_answer):\n",
    "            score += 1\n",
    "    print(\"Your final score is: {}/{}\".format(score, len(questions)))\n",
    "\n",
    "if __name__ == \"__main__\":\n",
    "    run_quiz()"
   ]
  },
  {
   "cell_type": "code",
   "execution_count": null,
   "id": "74b0d2d4",
   "metadata": {},
   "outputs": [],
   "source": []
  }
 ],
 "metadata": {
  "kernelspec": {
   "display_name": "Python 3 (ipykernel)",
   "language": "python",
   "name": "python3"
  },
  "language_info": {
   "codemirror_mode": {
    "name": "ipython",
    "version": 3
   },
   "file_extension": ".py",
   "mimetype": "text/x-python",
   "name": "python",
   "nbconvert_exporter": "python",
   "pygments_lexer": "ipython3",
   "version": "3.11.5"
  }
 },
 "nbformat": 4,
 "nbformat_minor": 5
}
